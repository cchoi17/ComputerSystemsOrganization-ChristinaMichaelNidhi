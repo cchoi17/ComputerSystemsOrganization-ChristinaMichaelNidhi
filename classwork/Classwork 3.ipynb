{
 "cells": [
  {
   "cell_type": "code",
   "execution_count": null,
   "id": "3d8513b3",
   "metadata": {},
   "outputs": [],
   "source": [
    "nato_dict = {\"a\": \"Alfa\", \"b\": \"Bravo\", \"c\":\"Charlie\", \"d\": \"Delta\", \"e\": \"Echo\", \"f\": \"Foxtrot\", \"g\":\"Golf\",\"h\":\"Hotel\",\"i\":\"India\",\"j\":\"Juliett\",\"k\":\"Kilo\",\"l\":\"Lima\",\"m\":\"Mike\",\"n\":\"November\",\"o\":\"Oscar\",\"p\":\"Papa\",\"q\":\"Quebec\",\"r\":\"Romeo\",\"s\":\"Sierra\",\"t\":\"Tango\",\"u\":\"Uniform\",\"v\":\"Victor\",\"w\":\"Whiskey\",\"x\":\"Xray\",\"y\":\"Yankee\",\"z\":\"zulu\"}\n",
    "str_input = input().lower()\n",
    "for i in str_input:\n",
    "    if i in nato_dict:\n",
    "        print(nato_dict[i])\n",
    "    \n",
    "    "
   ]
  },
  {
   "cell_type": "code",
   "execution_count": null,
   "id": "c37c4cc9",
   "metadata": {},
   "outputs": [],
   "source": [
    "\n"
   ]
  },
  {
   "cell_type": "code",
   "execution_count": null,
   "id": "bdcdab6c",
   "metadata": {},
   "outputs": [],
   "source": []
  },
  {
   "cell_type": "code",
   "execution_count": null,
   "id": "ecdcbe56",
   "metadata": {},
   "outputs": [],
   "source": []
  },
  {
   "cell_type": "code",
   "execution_count": null,
   "id": "b95414d2",
   "metadata": {},
   "outputs": [],
   "source": []
  }
 ],
 "metadata": {
  "kernelspec": {
   "display_name": "Python 3 (ipykernel)",
   "language": "python",
   "name": "python3"
  },
  "language_info": {
   "codemirror_mode": {
    "name": "ipython",
    "version": 3
   },
   "file_extension": ".py",
   "mimetype": "text/x-python",
   "name": "python",
   "nbconvert_exporter": "python",
   "pygments_lexer": "ipython3",
   "version": "3.9.7"
  }
 },
 "nbformat": 4,
 "nbformat_minor": 5
}
